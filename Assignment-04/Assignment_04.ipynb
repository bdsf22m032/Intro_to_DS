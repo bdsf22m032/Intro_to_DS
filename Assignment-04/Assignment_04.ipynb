{
 "cells": [
  {
   "cell_type": "markdown",
   "id": "d54e6261-14f4-4373-a672-7fbac3e3c2f4",
   "metadata": {},
   "source": [
    "# Climate Data Analysis for a Research Center"
   ]
  },
  {
   "cell_type": "markdown",
   "id": "2c93ec2e-788e-470f-8e01-6d78f737059a",
   "metadata": {},
   "source": [
    "## Initialize Temperature and Humidity Data"
   ]
  },
  {
   "cell_type": "code",
   "execution_count": null,
   "id": "32aa1c4b-fac6-4193-a81c-030cf4bdf599",
   "metadata": {},
   "outputs": [],
   "source": [
    "import numpy as np\n",
    "loc = 500\n",
    "days = 365\n",
    "temp = np.random.uniform(low = -10, high = 40 , size = (days,loc))\n",
    "humid = np.random.uniform(low = -0, high = 100 , size = (days,loc))\n",
    "temp = np.round(temp,2)\n",
    "print(\"Temperature Data :\",temp.shape)\n",
    "print(\"Humidity Data : \",humid.shape)\n"
   ]
  },
  {
   "cell_type": "markdown",
   "id": "c808342b-4d3f-4a1a-aa5d-f0c2bc73cf21",
   "metadata": {},
   "source": [
    "## Check for Missing Data"
   ]
  },
  {
   "cell_type": "code",
   "execution_count": 37,
   "id": "f73fd401-35e0-4064-99cc-266e436a1304",
   "metadata": {},
   "outputs": [
    {
     "name": "stdout",
     "output_type": "stream",
     "text": [
      "Total missing entries in temp data: 47874\n",
      "Total missing entries in humid data: 33093\n"
     ]
    }
   ],
   "source": [
    "total = loc * days\n",
    "miss_val = int(total * 0.05)\n",
    "\n",
    "rows_temp = np.random.randint(0, loc, miss_val)\n",
    "cols_temp = np.random.randint(0, days, miss_val)\n",
    "rows_humid = np.random.randint(0, loc, miss_val)\n",
    "cols_humid = np.random.randint(0, days, miss_val)\n",
    "\n",
    "temp[rows_temp, cols_temp] = np.nan\n",
    "humid[rows_humid, cols_humid] = np.nan\n",
    "\n",
    "miss_temp = np.isnan(temp).sum()\n",
    "miss_humid = np.isnan(humid).sum()\n",
    "\n",
    "print(\"Total missing entries in temp data:\", miss_temp)\n",
    "print(\"Total missing entries in humid data:\", miss_humid)\n"
   ]
  },
  {
   "cell_type": "markdown",
   "id": "c0f806de-0eef-42ad-9042-cadaa3c15fe7",
   "metadata": {},
   "source": [
    "## Convert Temperature and Calculate Discomfort Index"
   ]
  },
  {
   "cell_type": "code",
   "execution_count": 38,
   "id": "1e8a8a93-afd2-422d-b760-70ae18e3b289",
   "metadata": {},
   "outputs": [
    {
     "name": "stdout",
     "output_type": "stream",
     "text": [
      "Discomfort Index :\n",
      "[[ 3.5 36.5  9.  14.5 52.5]\n",
      " [34.  23.5  nan 16.   2.5]\n",
      " [39.  22.5 19.   nan  9. ]\n",
      " [ 8.  55.  63.5 37.   nan]\n",
      " [44.   nan 34.  50.5 56.5]]\n"
     ]
    }
   ],
   "source": [
    "temp_fah = (temp * 9/5) + 32\n",
    "dis_index = (temp + humid) / 2\n",
    "dis_index[np.isnan(temp) | np.isnan(humid)] = np.nan\n",
    "dis_index[dis_index > 80] = 80\n",
    "print(\"Discomfort Index :\")\n",
    "print(discomfort_index[:5, :5])"
   ]
  },
  {
   "cell_type": "markdown",
   "id": "b98bd8c3-a8fb-4b11-b064-f3e74c165980",
   "metadata": {},
   "source": [
    "## Analyze January Temperatures"
   ]
  },
  {
   "cell_type": "code",
   "execution_count": 39,
   "id": "ffaf7fca-e3dc-4ef5-8249-bc5e95df6485",
   "metadata": {},
   "outputs": [
    {
     "name": "stdout",
     "output_type": "stream",
     "text": [
      "Average January temperature across all locations: 12.49\n"
     ]
    }
   ],
   "source": [
    "jan_temp = temp[:, :31]\n",
    "aver_jan_temp =np.round(np.nanmean(jan_temp),2)\n",
    "\n",
    "print(\"Average January temperature across all locations:\", aver_jan_temp)\n"
   ]
  },
  {
   "cell_type": "markdown",
   "id": "0c054bec-625a-4a01-a22a-0389ca9b76a4",
   "metadata": {},
   "source": [
    "## Identify Extreme Temperatures\n"
   ]
  },
  {
   "cell_type": "code",
   "execution_count": 40,
   "id": "877518ee-cf0d-41fa-999a-3651eb28df98",
   "metadata": {},
   "outputs": [
    {
     "name": "stdout",
     "output_type": "stream",
     "text": [
      "Number of NaNs per location: [ 95  97  94  93  98 102 107  98 103 103 102 108  91 118 117 100  95  94\n",
      "  96 105 118  85  94  92 100  97  93  93 117  79  92  91  94  93  88 101\n",
      "  97  82  95 100  92  98 101  97  97  95  89  87  87  97 101 100  91  81\n",
      "  93 110  95 103  91 118  96  98  92 104  99  92  96  86 100  97  91 101\n",
      "  95  81  94  85 104  86 100 102  88  95  94  93 105  91  92 101  92  98\n",
      "  98  93  93  88  98 104  98  95 102  88  99 101  85  80  97 109  98  88\n",
      " 106 108 105 101  87 106  85  84  97  93  95 102  93  75 111 100  84  95\n",
      " 101 105  97  98  97 113 104 107  77  88  95 101  94  95  84  90  92  95\n",
      " 108  83 112  98 103  98  91  94  94  87  96  79 108  91  95  98  92  94\n",
      "  93  90  77  89  85 103  98 111 102  86  98  91 110  98  74  96  81  91\n",
      "  90  90 102 103  93  89 104 110  86  98  99  92  99  91  94 102  91  94\n",
      " 100 106 100  92 102  98  96  86  85  92 104  95  87 115  94 100  91 103\n",
      " 101  94  82 100 116  92 100  89 100 101  93  97  96 114 114  98  92  98\n",
      "  73  96  96 113  94 109  82 106 101 109  90  79  95  97  99  91  87  94\n",
      "  94 100  99  91 102  91  96  90 112 102  96  93  94 101  92  95  88  93\n",
      "  89 102 103  94 104 103  97  86  86  93 105  92  96 104  95  86  97  87\n",
      "  99  99  88  85  94  85  91  99  94  86  93 101  97 106  90  98  95  98\n",
      "  82 106 106  82  99 100  96  97  96  88  84  91  95  87  92 107  93 101\n",
      "  95 103  86 106  91  80 103  82  96  78 110 113  92  88  93  86  94 111\n",
      " 106  97 100  94  97  92  90  97  79 106  89  79  98  96 102 102  92  90\n",
      "  88  97 101  82  89  88  97 103  92 109 106 110 106 111  94  94 103  88\n",
      " 108  89 110  88  91 102  98  93 108  84  95 102  89  99  85  95  80  86\n",
      "  83  98 111  75  77  88  86  87 101  91  94  95  87 107 113  98  95 112\n",
      " 100 100  93 105 113  92 103  97  97  98  91  95  91  86  92  93  96  97\n",
      " 104  78 112  96 107  92 109  89 103 107  89  75  93  86  93  89  94  90\n",
      "  91 103  93 105  95  97  81 103 102  96  98  94  81 104  95  91 106 101\n",
      "  92  82 101  89  97  90  94  89  87  89  96  96 102  83  84 104  95  88\n",
      " 119  88 115  90 100 100  99 108  98  97 107  98  87  93]\n"
     ]
    }
   ],
   "source": [
    "temp[temp > 35] = np.nan\n",
    "null_per_loc = np.isnan(temp).sum(axis=1)\n",
    "\n",
    "print(\"Number of NaNs per location:\", null_per_loc)\n"
   ]
  },
  {
   "cell_type": "markdown",
   "id": "40337a3b-c62b-4ade-b9e3-f228d1298634",
   "metadata": {},
   "source": [
    "## Calculate Quarterly Temperature Averages\n"
   ]
  },
  {
   "cell_type": "code",
   "execution_count": 42,
   "id": "bab7b51f-28a5-403c-9127-b2afb0479fd0",
   "metadata": {},
   "outputs": [
    {
     "name": "stdout",
     "output_type": "stream",
     "text": [
      "Quarterly temperatures average: [[12.71 13.51 11.85 11.73]\n",
      " [14.74 11.97 13.26 10.45]\n",
      " [11.59 12.56 11.07 14.55]\n",
      " ...\n",
      " [ 8.57 11.11 12.92 11.69]\n",
      " [10.6  13.55 11.75 11.94]\n",
      " [14.08 13.42 12.67 12.97]]\n"
     ]
    }
   ],
   "source": [
    "temp_trim = temp[:, :364]\n",
    "quart = temp_trim.reshape(loc, 4, 91)\n",
    "quart_avg = np.round(np.nanmean(quart, axis=2),2)\n",
    "\n",
    "print(\"Quarterly temperatures average:\", quart_avg)\n"
   ]
  },
  {
   "cell_type": "markdown",
   "id": "14eff8f9-5f7f-4934-a216-fdd15d0307bb",
   "metadata": {},
   "source": [
    "## Classify Humidity Levels"
   ]
  },
  {
   "cell_type": "code",
   "execution_count": 44,
   "id": "f6839c54-d36a-4bc9-9912-dc816362bfbe",
   "metadata": {},
   "outputs": [
    {
     "name": "stdout",
     "output_type": "stream",
     "text": [
      "Total number of Dry days : [ 91  88  77  80  75  86 101  88 103  94  88  79  81 102  71  90  86  81\n",
      "  82  82  91  87  82  73  89  97  82  91  83  85  90  93 102  91  83  83\n",
      "  93  89  84  94  79  88  88  90  88  82  99  88  87  96  85 105  85  92\n",
      "  92  81  92  80 105  76 100 101  76  86  85  84  78  77  86  86  87  90\n",
      "  87  83  85 102  92  71  78  96 102  94  86  97  92  96  81  93  84  77\n",
      " 101  78  83  95  85  85  85  83  89  94  91  95  89  85 101  98  84  80\n",
      "  93  89  93  75  78  70  87  94  89  86  88  89  76  90  89  92  88  83\n",
      "  85  98  83  94  70  99 104  98  79  84  88  84 100  91  68  96  93  91\n",
      "  84  77 108  80  85  87 114  74  98  82 100  97 100  80  61  80  96  97\n",
      "  96  84  91  82  88  70  91  72  96  86  86 101  97  97  82  94  83  94\n",
      "  94  93  92 101  74  70  85  86 107  97  73  72  86  88  78  78  73 104\n",
      "  82  87  87 101  94  85  97  84  83  92  88  94  82  92 103  82  86  82\n",
      "  97  83  81  77  94  95 108  78  75  91  95  96  97  84  82  92  93  91\n",
      "  85  94  75  86 101  97  89  89  87  91  90  87  82  70  88  98  85 102\n",
      "  82  84 102  74  79  74  89  91  74 101  94  88  88  94  90 104  86  88\n",
      "  86  86  87  90  93  86  90  90  77  92  83  88  89  88  92  82  95  86\n",
      "  96  87  86  86  76  95  75  91  90  90  94  79  91 107  99  91 101  89\n",
      "  93  73  83  86  81  87  88  80  98  90  84  95  85  86  89  91  85  97\n",
      " 101  76  86  77  88  85 101 103  99  94  85  75  92  91  89 109  87  84\n",
      "  92  90  92 111  82  83  90  94  92  93  95  87  85  84  72  99  83  94\n",
      " 101  99  95  94  81  74  91  83  84  86  94  98  92  94  86  90  96  95\n",
      "  83  85 100 104  91  83 102  79 104  85 104  85  82  86  96  81  86  93\n",
      "  91  69  86  95  86  86  90  88  70  83  87  96  87  85  81  95  73  92\n",
      "  82  86  89  74  97  91  90  90  76  77  97  88  89  78  95  88  84  77\n",
      "  86  76  93  86 101  91  87  76 104  80  84  91  79  95  79  88  89  84\n",
      "  90 111  95  92  89  92  76  83  80  90  90  98  84 102  86  93  80 106\n",
      " 102  90  85  96  84  84  82  94  93  93  85  89  98  82  94  84  82 100\n",
      "  86  89  96  91  93  79  80  94  94  91 103  98  87  99]\n",
      "Total number of Humid days : [ 87  85  97  98 102  85  84  86  82  85  88  82 106  84  99  78  91  92\n",
      "  92  89  95  90  97 100  78  83  83  98  74  97  92  79  81  90  87  98\n",
      "  85  76  99  85  83  98  82  77  78  86  89  92  83  90  92  69  85  87\n",
      "  87  90  81  83  73  96  80  87  85  86  82  84  91 102  81  92  89  93\n",
      "  87  71  83  93  84  98  93  96  85  92  80  97  89  87  91  87  96  93\n",
      "  87  97  87  86  87  71  92 100 103  80  85  85 102  89  87  87  87 104\n",
      "  91  96  84  95  83 102 101  87  76  83  88  93 106 107  94  91  85  80\n",
      "  95  94 101  73  93  89  83  78  82  96  94  89  97  88  86  82  86  88\n",
      "  92  84  81  99  76  81  80  86  77  87  94  76  88  84  85 102 105  86\n",
      "  79  92  91  90  93 102  87  96  76  95  88  63  77  88  91  90  89  97\n",
      "  92  85  95  83 106  91  82  81  79  81 105  96  76  89  97  86  83  91\n",
      "  99  82  87  90  87 104  90  96  91  81  87  88 109  78  83 101  85  93\n",
      "  91  94  81  97 114  88  82  82  88  80  91  70  95 105  81  77  80  88\n",
      "  89  79  86  84  83  80  93  89  90  81  86 104  95  97  90  99  94  79\n",
      "  83  91  78 116  89 100  75  94  94  89  85  97 106  81  77  92 106  93\n",
      "  97  94  78 105  89  87  78  92  89  90  88  86 109 105 100 100  91  90\n",
      "  68  83  92  92  86  89  92  70  91  88  96 103  91  80  84  84  85  82\n",
      "  94  92  99  89  88  91  94  90  78  96  90  78  88  69 105  88 102  80\n",
      "  84  77  73 104  98  92  90  72  93  97  87  95  70  88 100  79  93  82\n",
      "  86  86  77  91  94  86  89  85  91  87  79  90  94  77  87  90  96  80\n",
      "  86  89  90  95  76  89  94  66  96  97  81 102  89  87  82  91  63  76\n",
      "  98  90  72  75  81  80  91  82  76  83  84  95  94  96 104  92  82  87\n",
      "  74  85  97  95  86  94  72  95 100 103  83  86  89  84 100  95 105  92\n",
      "  83  84 112  91  82  91  92  94  95  96  88  91  68  99  89  74  93  92\n",
      "  95  77  87  88 103  87  95  96  77  88  86  88  93  75  81 116  91  89\n",
      "  92  84  88  96  88  96  98  89  78  86  87  77  80  89  83  79 105  92\n",
      "  96  89  90  77 106  90  95  85  73  91  92  84  81  84  91  73  85  89\n",
      "  88  93  93 102  89  84  90  86  93  92  78  96  94  79]\n"
     ]
    }
   ],
   "source": [
    "c_dry = (humid < 30).sum(axis=1)\n",
    "c_humid = (humid > 70).sum(axis=1)\n",
    "\n",
    "print(\"Total number of Dry days :\", c_dry)\n",
    "print(\"Total number of Humid days :\", c_humid)\n"
   ]
  },
  {
   "cell_type": "markdown",
   "id": "844f71fc-5240-49db-93ea-ba36d1c824fd",
   "metadata": {},
   "source": [
    "## Apply Daily Pressure Trend to Temperature Data"
   ]
  },
  {
   "cell_type": "markdown",
   "id": "ef4c37c4-b7f1-496f-84d3-319286e284c8",
   "metadata": {},
   "source": [
    "press_trend = np.linspace(-2, 2, days)  \n",
    "adj_temp = np.round((temp + press_trend),2)\n",
    "\n",
    "print(\"Adjusted temperatures :\")\n",
    "print(adj_temp)\n"
   ]
  }
 ],
 "metadata": {
  "kernelspec": {
   "display_name": "Python 3 (ipykernel)",
   "language": "python",
   "name": "python3"
  },
  "language_info": {
   "codemirror_mode": {
    "name": "ipython",
    "version": 3
   },
   "file_extension": ".py",
   "mimetype": "text/x-python",
   "name": "python",
   "nbconvert_exporter": "python",
   "pygments_lexer": "ipython3",
   "version": "3.11.0"
  }
 },
 "nbformat": 4,
 "nbformat_minor": 5
}
