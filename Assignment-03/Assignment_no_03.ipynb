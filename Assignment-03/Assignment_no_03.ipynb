{
 "cells": [
  {
   "cell_type": "markdown",
   "id": "ea08ff39-f823-4277-9c4b-9667c120648d",
   "metadata": {},
   "source": [
    "# Task 1: E-commerce Data Processing"
   ]
  },
  {
   "cell_type": "code",
   "execution_count": 31,
   "id": "423c4769-9724-4b64-abf1-081f099595c2",
   "metadata": {},
   "outputs": [
    {
     "name": "stdout",
     "output_type": "stream",
     "text": [
      "[{'customer': 'Alice', 'total': 250.5}, {'customer': 'Charlie', 'total': 450}, {'customer': 'Daisy', 'total': 100.0}]\n"
     ]
    }
   ],
   "source": [
    "# Task 1 (part A)\n",
    "\n",
    "def filter_order(orders):\n",
    "    def valid_ord(order):\n",
    "        try:\n",
    "            t = float(order['total'])\n",
    "            return t > 0 \n",
    "        except:\n",
    "            return False\n",
    "        \n",
    "    \n",
    "    x = list(filter(lambda order: valid_ord(order),orders))\n",
    "    return x\n",
    "\n",
    "\n",
    "orders = [ \n",
    "{\"customer\": \"Alice\", \"total\": 250.5}, \n",
    "{\"customer\": \"Bob\", \"total\": \"invalid_data\"}, \n",
    "{\"customer\": \"Charlie\", \"total\": 450}, \n",
    "{\"customer\": \"Daisy\", \"total\": 100.0}, \n",
    "{\"customer\": \"Eve\", \"total\": -30},  \n",
    "] \n",
    "\n",
    "y = filter_order(orders)\n",
    "print(y)"
   ]
  },
  {
   "cell_type": "code",
   "execution_count": 6,
   "id": "459b0a3c-62eb-4eff-a8f6-6d4a3df0290c",
   "metadata": {},
   "outputs": [
    {
     "name": "stdout",
     "output_type": "stream",
     "text": [
      "[{'customer': 'Alice', 'total': 341.0}, {'customer': 'Charlie', 'total': 495.0}, {'customer': 'Daisy', 'total': 100.0}, {'customer': 'Eve', 'total': -30}]\n"
     ]
    }
   ],
   "source": [
    "# Task 1 (Part-B)\n",
    "def valid_order(order):\n",
    "    try:\n",
    "        total = float(order['total'])\n",
    "        if total >= 300:\n",
    "            order['total'] = ((total*10)/100)+order['total']\n",
    "        return order\n",
    "    except (ValueError, KeyError):\n",
    "        return None  \n",
    "\n",
    "def discount(orders):\n",
    "    x = list(map(valid_order, orders))\n",
    "    return [order for order in x if order is not None]\n",
    "\n",
    "orders = [ \n",
    "{\"customer\": \"Alice\", \"total\": 310}, \n",
    "{\"customer\": \"Bob\", \"total\": \"invalid_data\"}, \n",
    "{\"customer\": \"Charlie\", \"total\": 450}, \n",
    "{\"customer\": \"Daisy\", \"total\": 100.0}, \n",
    "{\"customer\": \"Eve\", \"total\": -30}]\n",
    "\n",
    "y = discount(orders)\n",
    "print(y)\n",
    "\n"
   ]
  },
  {
   "cell_type": "code",
   "execution_count": 9,
   "id": "6501d6b4-ddf9-4393-9d34-789d7b38dc0e",
   "metadata": {},
   "outputs": [
    {
     "name": "stdout",
     "output_type": "stream",
     "text": [
      "936.0\n"
     ]
    }
   ],
   "source": [
    "# Task 1 (Part - C)\n",
    "from functools import reduce\n",
    "\n",
    "def valid_order(order):\n",
    "    try:\n",
    "        total = float(order['total'])\n",
    "        if total >= 300:\n",
    "            order['total'] = ((total*10)/100)+order['total']\n",
    "        return order\n",
    "    except (ValueError, KeyError):\n",
    "        return None  \n",
    "\n",
    "def discount(orders):\n",
    "    x = list(map(valid_order, orders))\n",
    "    return [order for order in x if order is not None]\n",
    "def total_sales(orders):\n",
    "    valid_orders = discount(orders)\n",
    "    valid_orders = [order for order in valid_orders if order['total'] >= 0]\n",
    "    return reduce(lambda sales, order: sales + order['total'], valid_orders, 0) \n",
    "\n",
    "orders = [ \n",
    "{\"customer\": \"Alice\", \"total\": 310}, \n",
    "{\"customer\": \"Bob\", \"total\": \"invalid_data\"}, \n",
    "{\"customer\": \"Charlie\", \"total\": 450}, \n",
    "{\"customer\": \"Daisy\", \"total\": 100.0}, \n",
    "{\"customer\": \"Eve\", \"total\": -30}]\n",
    "\n",
    "\n",
    "z = total_sales(orders)\n",
    "print(z)\n"
   ]
  },
  {
   "cell_type": "markdown",
   "id": "f4ca12ef-2479-4b7a-9521-3997f7db0a73",
   "metadata": {},
   "source": [
    "# Task 2: Iterator and Generator "
   ]
  },
  {
   "cell_type": "code",
   "execution_count": 11,
   "id": "f3ffdf3a-8f95-42b0-b268-9287081c714c",
   "metadata": {},
   "outputs": [
    {
     "name": "stdout",
     "output_type": "stream",
     "text": [
      "1\n",
      "4\n",
      "9\n",
      "16\n",
      "25\n"
     ]
    }
   ],
   "source": [
    "# Task 2 (Part A)\n",
    "class SquareIterator:\n",
    "    def __init__(self, n):\n",
    "        self.n = n \n",
    "        self.c = 1 \n",
    "\n",
    "    def __iter__(self):\n",
    "        return self \n",
    "\n",
    "    def __next__(self):  \n",
    "        if self.c <= self.n: \n",
    "            x = self.c * self.c\n",
    "            self.c += 1\n",
    "            return x\n",
    "        else:\n",
    "            raise StopIteration \n",
    "\n",
    "\n",
    "\n",
    "sq = SquareIterator(5)\n",
    "for i in sq:\n",
    "    print(i)\n"
   ]
  },
  {
   "cell_type": "code",
   "execution_count": 14,
   "id": "f1bc196a-7b40-4c93-bc13-de5a516f9f4c",
   "metadata": {},
   "outputs": [
    {
     "name": "stdout",
     "output_type": "stream",
     "text": [
      "0\n",
      "1\n",
      "1\n",
      "2\n",
      "3\n",
      "5\n",
      "8\n",
      "13\n",
      "21\n",
      "34\n"
     ]
    }
   ],
   "source": [
    "def fibonacci_generator(n):\n",
    "    a, b = 0, 1\n",
    "    for i in range(n):\n",
    "        yield a\n",
    "        a, b = b, a + b\n",
    "\n",
    " \n",
    "x = fibonacci_generator(10)\n",
    "for i in x:\n",
    "    print(i)"
   ]
  },
  {
   "cell_type": "markdown",
   "id": "53c884b1-9e15-4f61-82cf-7b106b30a778",
   "metadata": {},
   "source": [
    "### Task 3: Exception Handling and Function Decorator"
   ]
  },
  {
   "cell_type": "code",
   "execution_count": 27,
   "id": "9c45fa9c-8e79-4066-805d-5f271d251282",
   "metadata": {},
   "outputs": [
    {
     "name": "stdout",
     "output_type": "stream",
     "text": [
      "Invalid input: a is not a number.\n",
      "Results: [1.0, 2.0, 3.0]\n"
     ]
    }
   ],
   "source": [
    "def chain_exceptions(n, div):\n",
    "    res = []\n",
    "    \n",
    "    if div == 0:\n",
    "        print(\"Error: Divisor cannot be zero.\")\n",
    "        return res\n",
    "    \n",
    "    for i in n:\n",
    "        try:\n",
    "            x = i / div\n",
    "            res.append(x)\n",
    "        except TypeError as e:\n",
    "            print(f\"Invalid input: {i} is not a number.\")\n",
    "        except Exception as e:\n",
    "            print(f\"An error occurred: {e}\")\n",
    "    \n",
    "    return res\n",
    "\n",
    "n = [10, 20, 30, 'a']  \n",
    "div = 10\n",
    "\n",
    "res = chain_exceptions(n, div)\n",
    "print(\"Results:\", res)"
   ]
  },
  {
   "cell_type": "code",
   "execution_count": 23,
   "id": "7603bc52-e9b2-4834-a9a3-6148b9c5199d",
   "metadata": {},
   "outputs": [
    {
     "name": "stderr",
     "output_type": "stream",
     "text": [
      "2024-10-22 22:46:10,275 - ERROR - Invalid input: a is not a number.\n",
      "2024-10-22 22:46:10,281 - ERROR - Exception occurred in function 'divide_numbers':\n",
      "Type: ZeroDivisionError, Message: division by zero\n"
     ]
    },
    {
     "name": "stdout",
     "output_type": "stream",
     "text": [
      "Results: [2.0, 4.0, 6.0]\n",
      "Caught an exception: division by zero\n"
     ]
    }
   ],
   "source": [
    "import logging\n",
    "import functools\n",
    "\n",
    "\n",
    "logging.basicConfig(level=logging.ERROR, format='%(asctime)s - %(levelname)s - %(message)s')\n",
    "\n",
    "def log_exceptions(f):\n",
    "    @functools.wraps(f)\n",
    "    def wrapper(*args, **kwargs):\n",
    "        try:\n",
    "            return f(*args, **kwargs)\n",
    "        except Exception as e:\n",
    "            logging.error(f\"Exception occurred in function '{f.__name__}':\\n\"\n",
    "                          f\"Type: {type(e).__name__}, Message: {str(e)}\")\n",
    "            raise\n",
    "    return wrapper\n",
    "\n",
    "@log_exceptions\n",
    "def divide_numbers(nums, div):\n",
    "    res = []\n",
    "    \n",
    "   \n",
    "    if div == 0:\n",
    "        raise ZeroDivisionError(\"division by zero\")  \n",
    "    for n in nums:\n",
    "        try:\n",
    "            res.append(n / div)\n",
    "        except TypeError:\n",
    "            logging.error(f\"Invalid input: {n} is not a number.\")\n",
    "            continue \n",
    "    \n",
    "    return res\n",
    "\n",
    "if __name__ == \"__main__\":\n",
    "\n",
    "    nums = [10, 20, 'a', 30] \n",
    "    div = 5\n",
    "    try:\n",
    "        results = divide_numbers(nums, div)\n",
    "        print(\"Results:\", results)\n",
    "    except Exception as e:\n",
    "        print(f\"Caught an exception: {e}\")\n",
    "\n",
    "\n",
    "    nums = [10, 20, 'a', 30] \n",
    "    div = 0\n",
    "    try:\n",
    "        results = divide_numbers(nums, div)\n",
    "        print(\"Results:\", results)\n",
    "    except Exception as e:\n",
    "        print(f\"Caught an exception: {e}\")\n",
    "\n",
    "   "
   ]
  },
  {
   "cell_type": "code",
   "execution_count": null,
   "id": "ea155b89-9543-4d33-b193-f0557a494754",
   "metadata": {},
   "outputs": [],
   "source": []
  }
 ],
 "metadata": {
  "kernelspec": {
   "display_name": "Python 3 (ipykernel)",
   "language": "python",
   "name": "python3"
  },
  "language_info": {
   "codemirror_mode": {
    "name": "ipython",
    "version": 3
   },
   "file_extension": ".py",
   "mimetype": "text/x-python",
   "name": "python",
   "nbconvert_exporter": "python",
   "pygments_lexer": "ipython3",
   "version": "3.11.0"
  }
 },
 "nbformat": 4,
 "nbformat_minor": 5
}
